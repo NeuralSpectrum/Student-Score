{
 "cells": [
  {
   "cell_type": "markdown",
   "id": "843ccf8f",
   "metadata": {},
   "source": [
    "# Statistical Analysis of Student Scores data"
   ]
  },
  {
   "cell_type": "markdown",
   "id": "680d652b",
   "metadata": {},
   "source": [
    "This project aims at providing basic analytical approach to carryout statistical data analysis using a simple data set comprising of student scores data, which provides an introduction to exploratory data analysis and data visualization."
   ]
  },
  {
   "cell_type": "markdown",
   "id": "1489fe98",
   "metadata": {},
   "source": [
    "### 1. Downloading necessary libararies"
   ]
  },
  {
   "cell_type": "code",
   "execution_count": 40,
   "id": "780089fc",
   "metadata": {},
   "outputs": [],
   "source": [
    "import numpy as np # numpy helps in storing the data as arrays\n",
    "import pandas as pd # pandas heps in storing and representing data frames\n",
    "import matplotlib.pyplot as plt # matplotlib helps in data visualization"
   ]
  },
  {
   "cell_type": "markdown",
   "id": "c6a12b03",
   "metadata": {},
   "source": [
    "### 2. Loading the data set"
   ]
  },
  {
   "cell_type": "code",
   "execution_count": 42,
   "id": "965d8bbb",
   "metadata": {},
   "outputs": [],
   "source": [
    "df=pd.read_csv(\"student.csv\") # The csv file containg student information has been loaded into a pandas data frame"
   ]
  },
  {
   "cell_type": "markdown",
   "id": "5d102987",
   "metadata": {},
   "source": [
    "### 3. Exploring the data"
   ]
  },
  {
   "cell_type": "code",
   "execution_count": 47,
   "id": "24da0e90",
   "metadata": {},
   "outputs": [
    {
     "data": {
      "text/html": [
       "<div>\n",
       "<style scoped>\n",
       "    .dataframe tbody tr th:only-of-type {\n",
       "        vertical-align: middle;\n",
       "    }\n",
       "\n",
       "    .dataframe tbody tr th {\n",
       "        vertical-align: top;\n",
       "    }\n",
       "\n",
       "    .dataframe thead th {\n",
       "        text-align: right;\n",
       "    }\n",
       "</style>\n",
       "<table border=\"1\" class=\"dataframe\">\n",
       "  <thead>\n",
       "    <tr style=\"text-align: right;\">\n",
       "      <th></th>\n",
       "      <th>StudentID</th>\n",
       "      <th>Score</th>\n",
       "    </tr>\n",
       "  </thead>\n",
       "  <tbody>\n",
       "    <tr>\n",
       "      <th>0</th>\n",
       "      <td>1</td>\n",
       "      <td>85</td>\n",
       "    </tr>\n",
       "    <tr>\n",
       "      <th>1</th>\n",
       "      <td>2</td>\n",
       "      <td>90</td>\n",
       "    </tr>\n",
       "    <tr>\n",
       "      <th>2</th>\n",
       "      <td>3</td>\n",
       "      <td>75</td>\n",
       "    </tr>\n",
       "    <tr>\n",
       "      <th>3</th>\n",
       "      <td>4</td>\n",
       "      <td>88</td>\n",
       "    </tr>\n",
       "    <tr>\n",
       "      <th>4</th>\n",
       "      <td>5</td>\n",
       "      <td>79</td>\n",
       "    </tr>\n",
       "  </tbody>\n",
       "</table>\n",
       "</div>"
      ],
      "text/plain": [
       "   StudentID  Score\n",
       "0          1     85\n",
       "1          2     90\n",
       "2          3     75\n",
       "3          4     88\n",
       "4          5     79"
      ]
     },
     "execution_count": 47,
     "metadata": {},
     "output_type": "execute_result"
    }
   ],
   "source": [
    "df.head() # Accessing the first five rows of the data to have an understanding about the type of data we are dealing with"
   ]
  },
  {
   "cell_type": "code",
   "execution_count": 48,
   "id": "02014195",
   "metadata": {},
   "outputs": [
    {
     "name": "stdout",
     "output_type": "stream",
     "text": [
      "       StudentID      Score\n",
      "count   50.00000  50.000000\n",
      "mean    25.50000  83.520000\n",
      "std     14.57738   6.899394\n",
      "min      1.00000  68.000000\n",
      "25%     13.25000  78.250000\n",
      "50%     25.50000  83.500000\n",
      "75%     37.75000  89.000000\n",
      "max     50.00000  95.000000\n"
     ]
    }
   ],
   "source": [
    "print(df.describe()) # the describe command provides us with various statistics about the data"
   ]
  },
  {
   "cell_type": "markdown",
   "id": "69d846f9",
   "metadata": {},
   "source": [
    "The histogram below helps us visualize the data which further helps us take action to analyse it further."
   ]
  },
  {
   "cell_type": "code",
   "execution_count": 38,
   "id": "01f83f39",
   "metadata": {},
   "outputs": [
    {
     "data": {
      "image/png": "[encoded data removed]",
      "text/plain": [
       "<Figure size 500x400 with 1 Axes>"
      ]
     },
     "metadata": {},
     "output_type": "display_data"
    }
   ],
   "source": [
    "plt.figure(figsize=(5,4))\n",
    "plt.hist(df['Score'],bins=10)\n",
    "plt.xlabel('Score')\n",
    "plt.ylabel('Frequency')\n",
    "plt.title('Distribution of Exam Scores')\n",
    "plt.show()"
   ]
  },
  {
   "cell_type": "markdown",
   "id": "465bf710",
   "metadata": {},
   "source": [
    "### 4. Analysis of Student Score"
   ]
  },
  {
   "cell_type": "markdown",
   "id": "1cfa5800",
   "metadata": {},
   "source": [
    "After exploring the data the next step is to analyse it, for the given data set it is apt to analyse the statistics of entire class like mean score the students obatained in the class, median and standard deviation  "
   ]
  },
  {
   "cell_type": "code",
   "execution_count": 56,
   "id": "07913637",
   "metadata": {},
   "outputs": [
    {
     "name": "stdout",
     "output_type": "stream",
     "text": [
      "Max Score: 95\n",
      "Mean Score: 83.52\n",
      "Min Score: 68\n",
      "Median Score: 83.5\n",
      "Standard deviation: 6.8300512443172785\n"
     ]
    }
   ],
   "source": [
    "max_score=np.max(df['Score'])# maximum score\n",
    "print(\"Max Score:\",max_score)\n",
    "mean_score=np.mean(df['Score'])# mean calcualtion\n",
    "print(\"Mean Score:\",mean_score)\n",
    "min_score=np.min(df['Score'])# minimum score\n",
    "print(\"Min Score:\",min_score)\n",
    "median_score=np.median(df['Score'])# median calculation\n",
    "print(\"Median Score:\",median_score)\n",
    "std_dev=np.std(df['Score'])# standard deviation\n",
    "print(\"Standard deviation:\",std_dev)"
   ]
  },
  {
   "cell_type": "markdown",
   "id": "d7a0a920",
   "metadata": {},
   "source": [
    "### 5. Data Visualization"
   ]
  },
  {
   "cell_type": "code",
   "execution_count": 65,
   "id": "df96433a",
   "metadata": {},
   "outputs": [
    {
     "data": {
      "image/png": "[encoded data removed]",
      "text/plain": [
       "<Figure size 500x400 with 1 Axes>"
      ]
     },
     "metadata": {},
     "output_type": "display_data"
    }
   ],
   "source": [
    "plt.figure(figsize=(5,4))\n",
    "plt.boxplot(df['Score'])\n",
    "plt.text(1.05, max_score,f'{max_score}', horizontalalignment='left', verticalalignment='bottom')\n",
    "plt.text(1, median_score,f'{median_score}', horizontalalignment='center', verticalalignment='bottom')\n",
    "plt.text(1.05, min_score,f'{min_score}', horizontalalignment='left', verticalalignment='bottom')\n",
    "plt.ylabel('Score')\n",
    "plt.title('Box plot of Student Scores')\n",
    "plt.show()"
   ]
  },
  {
   "cell_type": "markdown",
   "id": "35f2f256",
   "metadata": {},
   "source": [
    "After analysing the student scores we can conclude that majority of the students performed well in this class with the median score of the class being at 83.5 and the maximum score obtained by a student is 95 and the minimum being 68.   "
   ]
  }
 ],
 "metadata": {
  "kernelspec": {
   "display_name": "Python 3 (ipykernel)",
   "language": "python",
   "name": "python3"
  },
  "language_info": {
   "codemirror_mode": {
    "name": "ipython",
    "version": 3
   },
   "file_extension": ".py",
   "mimetype": "text/x-python",
   "name": "python",
   "nbconvert_exporter": "python",
   "pygments_lexer": "ipython3",
   "version": "3.11.5"
  }
 },
 "nbformat": 4,
 "nbformat_minor": 5
}
